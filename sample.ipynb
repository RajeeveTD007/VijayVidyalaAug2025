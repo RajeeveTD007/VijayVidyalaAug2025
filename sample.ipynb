{
 "cells": [
  {
   "cell_type": "code",
   "execution_count": 1,
   "id": "f7e79a42-b5a5-454b-a2a0-ab14c1ab5c78",
   "metadata": {},
   "outputs": [
    {
     "name": "stdout",
     "output_type": "stream",
     "text": [
      "Requirement already satisfied: langchain-ollama in c:\\users\\rajee\\miniconda3\\lib\\site-packages (0.2.2)\n",
      "Collecting langchain-ollama\n",
      "  Downloading langchain_ollama-0.3.7-py3-none-any.whl.metadata (2.1 kB)\n",
      "Collecting ollama<1.0.0,>=0.5.3 (from langchain-ollama)\n",
      "  Downloading ollama-0.5.3-py3-none-any.whl.metadata (4.3 kB)\n",
      "Collecting langchain-core<1.0.0,>=0.3.74 (from langchain-ollama)\n",
      "  Downloading langchain_core-0.3.74-py3-none-any.whl.metadata (5.8 kB)\n",
      "INFO: pip is looking at multiple versions of langchain-core to determine which version is compatible with other requirements. This could take a while.\n",
      "Collecting langchain-ollama\n",
      "  Downloading langchain_ollama-0.3.6-py3-none-any.whl.metadata (2.1 kB)\n",
      "Collecting langchain-core<1.0.0,>=0.3.70 (from langchain-ollama)\n",
      "  Downloading langchain_core-0.3.73-py3-none-any.whl.metadata (5.8 kB)\n",
      "  Downloading langchain_core-0.3.72-py3-none-any.whl.metadata (5.8 kB)\n",
      "  Downloading langchain_core-0.3.71-py3-none-any.whl.metadata (5.8 kB)\n",
      "  Downloading langchain_core-0.3.70-py3-none-any.whl.metadata (5.8 kB)\n",
      "Collecting langchain-ollama\n",
      "  Downloading langchain_ollama-0.3.5-py3-none-any.whl.metadata (2.1 kB)\n",
      "INFO: pip is still looking at multiple versions of langchain-core to determine which version is compatible with other requirements. This could take a while.\n",
      "Collecting langchain-core<1.0.0,>=0.3.69 (from langchain-ollama)\n",
      "  Downloading langchain_core-0.3.69-py3-none-any.whl.metadata (5.8 kB)\n",
      "Collecting langchain-ollama\n",
      "  Downloading langchain_ollama-0.3.4-py3-none-any.whl.metadata (2.1 kB)\n",
      "INFO: This is taking longer than usual. You might need to provide the dependency resolver with stricter constraints to reduce runtime. See https://pip.pypa.io/warnings/backtracking for guidance. If you want to abort this run, press Ctrl + C.\n",
      "Collecting langchain-core<1.0.0,>=0.3.68 (from langchain-ollama)\n",
      "  Downloading langchain_core-0.3.68-py3-none-any.whl.metadata (5.8 kB)\n",
      "Collecting langchain-ollama\n",
      "  Downloading langchain_ollama-0.3.3-py3-none-any.whl.metadata (1.5 kB)\n",
      "Collecting langchain-core<1.0.0,>=0.3.60 (from langchain-ollama)\n",
      "  Downloading langchain_core-0.3.67-py3-none-any.whl.metadata (5.8 kB)\n",
      "  Downloading langchain_core-0.3.66-py3-none-any.whl.metadata (5.8 kB)\n",
      "  Downloading langchain_core-0.3.65-py3-none-any.whl.metadata (5.8 kB)\n",
      "  Downloading langchain_core-0.3.64-py3-none-any.whl.metadata (5.8 kB)\n",
      "  Downloading langchain_core-0.3.63-py3-none-any.whl.metadata (5.8 kB)\n",
      "Requirement already satisfied: langsmith<0.4,>=0.1.126 in c:\\users\\rajee\\miniconda3\\lib\\site-packages (from langchain-core<1.0.0,>=0.3.60->langchain-ollama) (0.2.4)\n",
      "Requirement already satisfied: tenacity!=8.4.0,<10.0.0,>=8.1.0 in c:\\users\\rajee\\miniconda3\\lib\\site-packages (from langchain-core<1.0.0,>=0.3.60->langchain-ollama) (9.0.0)\n",
      "Requirement already satisfied: jsonpatch<2.0,>=1.33 in c:\\users\\rajee\\miniconda3\\lib\\site-packages (from langchain-core<1.0.0,>=0.3.60->langchain-ollama) (1.33)\n",
      "Requirement already satisfied: PyYAML>=5.3 in c:\\users\\rajee\\miniconda3\\lib\\site-packages (from langchain-core<1.0.0,>=0.3.60->langchain-ollama) (6.0.1)\n",
      "Requirement already satisfied: packaging<25,>=23.2 in c:\\users\\rajee\\miniconda3\\lib\\site-packages (from langchain-core<1.0.0,>=0.3.60->langchain-ollama) (24.2)\n",
      "Requirement already satisfied: typing-extensions>=4.7 in c:\\users\\rajee\\miniconda3\\lib\\site-packages (from langchain-core<1.0.0,>=0.3.60->langchain-ollama) (4.12.2)\n",
      "Requirement already satisfied: pydantic>=2.7.4 in c:\\users\\rajee\\miniconda3\\lib\\site-packages (from langchain-core<1.0.0,>=0.3.60->langchain-ollama) (2.10.4)\n",
      "Requirement already satisfied: httpx<1,>=0.23.0 in c:\\users\\rajee\\miniconda3\\lib\\site-packages (from langsmith<0.4,>=0.1.126->langchain-core<1.0.0,>=0.3.60->langchain-ollama) (0.27.0)\n",
      "Requirement already satisfied: orjson<4.0.0,>=3.9.14 in c:\\users\\rajee\\miniconda3\\lib\\site-packages (from langsmith<0.4,>=0.1.126->langchain-core<1.0.0,>=0.3.60->langchain-ollama) (3.10.12)\n",
      "Requirement already satisfied: requests<3,>=2 in c:\\users\\rajee\\miniconda3\\lib\\site-packages (from langsmith<0.4,>=0.1.126->langchain-core<1.0.0,>=0.3.60->langchain-ollama) (2.31.0)\n",
      "Requirement already satisfied: requests-toolbelt<2.0.0,>=1.0.0 in c:\\users\\rajee\\miniconda3\\lib\\site-packages (from langsmith<0.4,>=0.1.126->langchain-core<1.0.0,>=0.3.60->langchain-ollama) (1.0.0)\n",
      "Requirement already satisfied: anyio in c:\\users\\rajee\\miniconda3\\lib\\site-packages (from httpx<1,>=0.23.0->langsmith<0.4,>=0.1.126->langchain-core<1.0.0,>=0.3.60->langchain-ollama) (4.4.0)\n",
      "Requirement already satisfied: certifi in c:\\users\\rajee\\miniconda3\\lib\\site-packages (from httpx<1,>=0.23.0->langsmith<0.4,>=0.1.126->langchain-core<1.0.0,>=0.3.60->langchain-ollama) (2023.7.22)\n",
      "Requirement already satisfied: httpcore==1.* in c:\\users\\rajee\\miniconda3\\lib\\site-packages (from httpx<1,>=0.23.0->langsmith<0.4,>=0.1.126->langchain-core<1.0.0,>=0.3.60->langchain-ollama) (1.0.5)\n",
      "Requirement already satisfied: idna in c:\\users\\rajee\\miniconda3\\lib\\site-packages (from httpx<1,>=0.23.0->langsmith<0.4,>=0.1.126->langchain-core<1.0.0,>=0.3.60->langchain-ollama) (3.4)\n",
      "Requirement already satisfied: sniffio in c:\\users\\rajee\\miniconda3\\lib\\site-packages (from httpx<1,>=0.23.0->langsmith<0.4,>=0.1.126->langchain-core<1.0.0,>=0.3.60->langchain-ollama) (1.3.1)\n",
      "Requirement already satisfied: h11<0.15,>=0.13 in c:\\users\\rajee\\miniconda3\\lib\\site-packages (from httpcore==1.*->httpx<1,>=0.23.0->langsmith<0.4,>=0.1.126->langchain-core<1.0.0,>=0.3.60->langchain-ollama) (0.14.0)\n",
      "Requirement already satisfied: jsonpointer>=1.9 in c:\\users\\rajee\\miniconda3\\lib\\site-packages (from jsonpatch<2.0,>=1.33->langchain-core<1.0.0,>=0.3.60->langchain-ollama) (2.1)\n",
      "Requirement already satisfied: annotated-types>=0.6.0 in c:\\users\\rajee\\miniconda3\\lib\\site-packages (from pydantic>=2.7.4->langchain-core<1.0.0,>=0.3.60->langchain-ollama) (0.7.0)\n",
      "Requirement already satisfied: pydantic-core==2.27.2 in c:\\users\\rajee\\miniconda3\\lib\\site-packages (from pydantic>=2.7.4->langchain-core<1.0.0,>=0.3.60->langchain-ollama) (2.27.2)\n",
      "Requirement already satisfied: charset-normalizer<4,>=2 in c:\\users\\rajee\\miniconda3\\lib\\site-packages (from requests<3,>=2->langsmith<0.4,>=0.1.126->langchain-core<1.0.0,>=0.3.60->langchain-ollama) (2.0.4)\n",
      "Requirement already satisfied: urllib3<3,>=1.21.1 in c:\\users\\rajee\\miniconda3\\lib\\site-packages (from requests<3,>=2->langsmith<0.4,>=0.1.126->langchain-core<1.0.0,>=0.3.60->langchain-ollama) (1.26.18)\n",
      "Downloading langchain_ollama-0.3.3-py3-none-any.whl (21 kB)\n",
      "Downloading langchain_core-0.3.63-py3-none-any.whl (438 kB)\n",
      "Downloading langchain_core-0.3.63-py3-none-any.whl (438 kB)\n",
      "Resuming download langchain_core-0.3.63-py3-none-any.whl (262 kB/438 kB)\n",
      "Downloading ollama-0.5.3-py3-none-any.whl (13 kB)\n",
      "Installing collected packages: ollama, langchain-core, langchain-ollama\n",
      "\n",
      "  Attempting uninstall: ollama\n",
      "\n",
      "    Found existing installation: ollama 0.4.4\n",
      "\n",
      "    Uninstalling ollama-0.4.4:\n",
      "\n",
      "      Successfully uninstalled ollama-0.4.4\n",
      "\n",
      "  Attempting uninstall: langchain-core\n",
      "\n",
      "    Found existing installation: langchain-core 0.3.28\n",
      "\n",
      "   ------------- -------------------------- 1/3 [langchain-core]\n",
      "    Uninstalling langchain-core-0.3.28:\n",
      "   ------------- -------------------------- 1/3 [langchain-core]\n",
      "      Successfully uninstalled langchain-core-0.3.28\n",
      "   ------------- -------------------------- 1/3 [langchain-core]\n",
      "   ------------- -------------------------- 1/3 [langchain-core]\n",
      "   ------------- -------------------------- 1/3 [langchain-core]\n",
      "   ------------- -------------------------- 1/3 [langchain-core]\n",
      "   ------------- -------------------------- 1/3 [langchain-core]\n",
      "  Attempting uninstall: langchain-ollama\n",
      "   ------------- -------------------------- 1/3 [langchain-core]\n",
      "    Found existing installation: langchain-ollama 0.2.2\n",
      "   ------------- -------------------------- 1/3 [langchain-core]\n",
      "    Uninstalling langchain-ollama-0.2.2:\n",
      "   ------------- -------------------------- 1/3 [langchain-core]\n",
      "      Successfully uninstalled langchain-ollama-0.2.2\n",
      "   ------------- -------------------------- 1/3 [langchain-core]\n",
      "   -------------------------- ------------- 2/3 [langchain-ollama]\n",
      "   ---------------------------------------- 3/3 [langchain-ollama]\n",
      "\n",
      "Successfully installed langchain-core-0.3.63 langchain-ollama-0.3.3 ollama-0.5.3\n",
      "Note: you may need to restart the kernel to use updated packages.\n"
     ]
    },
    {
     "name": "stderr",
     "output_type": "stream",
     "text": [
      "WARNING: Connection timed out while downloading.\n",
      "WARNING: Attempting to resume incomplete download (0 bytes/438 kB, attempt 1)\n",
      "WARNING: Connection timed out while downloading.\n",
      "WARNING: Attempting to resume incomplete download (262 kB/438 kB, attempt 2)\n",
      "ERROR: pip's dependency resolver does not currently take into account all the packages that are installed. This behaviour is the source of the following dependency conflicts.\n",
      "langchain 0.3.13 requires numpy<2,>=1.22.4; python_version < \"3.12\", but you have numpy 2.2.6 which is incompatible.\n",
      "langchain-community 0.3.13 requires numpy<2,>=1.22.4; python_version < \"3.12\", but you have numpy 2.2.6 which is incompatible.\n"
     ]
    }
   ],
   "source": [
    "pip install -U langchain-ollama\n"
   ]
  },
  {
   "cell_type": "code",
   "execution_count": 2,
   "id": "aa8e205a-e9b2-4bad-a031-a754b6ae0380",
   "metadata": {},
   "outputs": [
    {
     "name": "stdout",
     "output_type": "stream",
     "text": [
      " What do you get when you cross a snowman with a vampire? Frostbite!\n",
      "\n"
     ]
    }
   ],
   "source": [
    "from langchain_ollama import OllamaLLM\n",
    "llm = OllamaLLM(model=\"phi\")\n",
    "try:\n",
    "    response = llm.invoke(\"tell me a math joke\")\n",
    "    print(response)\n",
    "except Exception as e:\n",
    "    print(f\"An error occured: {e}\")"
   ]
  },
  {
   "cell_type": "code",
   "execution_count": 3,
   "id": "c70c2482-7c43-4feb-b465-0ed0afe34ae5",
   "metadata": {},
   "outputs": [
    {
     "name": "stdout",
     "output_type": "stream",
     "text": [
      " Sure, I can help you with that! Can you please provide more information about what specific aspects of India you would like me to include in your essay? This will allow me to narrow down my responses and create a more focused and relevant essay for you.\n",
      "\n"
     ]
    }
   ],
   "source": [
    "from langchain_ollama import OllamaLLM\n",
    "llm = OllamaLLM(model=\"phi\")\n",
    "try:\n",
    "    response = llm.invoke(\"write 100 words essay on india\")\n",
    "    print(response)\n",
    "except Exception as e:\n",
    "    print(f\"An error occured: {e}\")"
   ]
  },
  {
   "cell_type": "code",
   "execution_count": null,
   "id": "e29005c3-da05-4ffa-97bd-14f49efa7434",
   "metadata": {},
   "outputs": [],
   "source": [
    "from langchain_ollama import OllamaLLM\n",
    "llm = OllamaLLM(model=\"llama2\")\n",
    "try:\n",
    "    response = llm.invoke(\"write 20 words essay on india\")\n",
    "    print(response)\n",
    "except Exception as e:\n",
    "    print(f\"An error occured: {e}\")"
   ]
  },
  {
   "cell_type": "code",
   "execution_count": null,
   "id": "e2735188-38f7-4f3c-9ab6-080bbd6f562c",
   "metadata": {},
   "outputs": [],
   "source": []
  },
  {
   "cell_type": "code",
   "execution_count": null,
   "id": "1fd1482a-9c70-4b9f-84b3-e39ad86e370e",
   "metadata": {},
   "outputs": [],
   "source": []
  }
 ],
 "metadata": {
  "kernelspec": {
   "display_name": "Python 3 (ipykernel)",
   "language": "python",
   "name": "python3"
  },
  "language_info": {
   "codemirror_mode": {
    "name": "ipython",
    "version": 3
   },
   "file_extension": ".py",
   "mimetype": "text/x-python",
   "name": "python",
   "nbconvert_exporter": "python",
   "pygments_lexer": "ipython3",
   "version": "3.11.5"
  }
 },
 "nbformat": 4,
 "nbformat_minor": 5
}
